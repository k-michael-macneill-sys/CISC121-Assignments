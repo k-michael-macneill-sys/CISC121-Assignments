{
  "cells": [
    {
      "cell_type": "markdown",
      "metadata": {
        "id": "view-in-github",
        "colab_type": "text"
      },
      "source": [
        "<a href=\"https://colab.research.google.com/github/k-michael-macneill-sys/CISC121-Assignments/blob/main/CISC_121_Assignment_02_Michael_MacNeill.ipynb\" target=\"_parent\"><img src=\"https://colab.research.google.com/assets/colab-badge.svg\" alt=\"Open In Colab\"/></a>"
      ]
    },
    {
      "cell_type": "markdown",
      "metadata": {
        "id": "MRScbkLTN3Mc"
      },
      "source": [
        "# **CISC 121 - Section 001 – Assignment 2**\n",
        "*Please copy this notebook to your own drive (File -> Save a copy in Drive) and work from there.*"
      ]
    },
    {
      "cell_type": "markdown",
      "metadata": {
        "id": "KGKqcY70N3Md"
      },
      "source": [
        "\n",
        "\n",
        "1. Your Name: K. Michael MacNeill\n",
        "2. Section: 001\n",
        "3. ID: 20494831\n",
        "4. Github or Colab link of this notebook:\n",
        "5. Links to Chats: ? (n/a)\n"
      ]
    },
    {
      "cell_type": "markdown",
      "metadata": {
        "id": "creP6zY2Q96V"
      },
      "source": [
        "\n",
        "\n",
        "---\n",
        "\n"
      ]
    },
    {
      "cell_type": "markdown",
      "metadata": {
        "id": "r9EKMWjKIQP3"
      },
    {
      "cell_type": "markdown",
      "source": [
        "# Problem 1 - Sum of two integers"
      ],
      "metadata": {
        "id": "4zBBQGF4W65R"
      }
    },
    {
      "cell_type": "markdown",
      "source": [
        "## 1. Understanding and breakdown\n",
        "\n",
        "This first problem is quite basic, you simply want to find and compute the sum of two integers without using `+` or `-`, since I understand the concept of the problem I did not use any AI for this section.\n",
        "\n",
        "The Computational Thinking Pillars for this problem can be defined as:\n",
        "\n",
        "1) Decomposition\n",
        "\n",
        "    - Represent addition and subtraction through logic without using the operators `+` or `-`\n",
        "\n",
        "    - Account for negative numbers and stay within integer limits (–1000 ≤ a,b ≤ 1000)\n",
        "\n",
        "    - Return final integer sum\n",
        "\n",
        "  2) Pattern Recognition\n",
        "\n",
        "  I'm assuming the repeating pattern should be something like the following:\n",
        "      \n",
        "-  calculate a, b sum\n",
        "-  calculate carry\n",
        "-  combine\n",
        "-  repeat until carry = 0\n",
        "\n",
        "  3) Abstraction\n",
        "\n",
        "-  We will have to abstract away actual arithmetic since we cannot use it to find the sum. Therefore, we'll have to view numbers as bit sequences.\n",
        "-  After we have the numbers as bit sequences, we will start the sum and carry loop outlined about, and update the inputs until carry = 0.\n",
        "\n",
        "  4) Algorithmic Thinking\n",
        "\n",
        "  - Inputs: two integers a, b (–1000 ≤ a,b ≤ 1000)\n",
        "  - Outputs: integer sum a + b computed without + or –\n",
        "  - Constraints: Python integers are unbounded but simulate finite behavior for fair comparison.\n",
        "\n",
        "Here is a flowchart outlining the step by step logic to breakdown this problem:\n",
        "\n"
      ],
      "metadata": {
        "id": "o0oXMridXAQD"
      }
    },
    {
      "cell_type": "markdown",
      "source": [
        "## 2. Peer Review and Draft Code\n",
        "\n",
        "Under the solutions tab for Sum of Two Integers on LeetCode, I reviewed the following from the top solutions:\n",
        "\n",
        "https://leetcode.com/problems/sum-of-two-integers/solutions/132479/simple-explanation-on-how-to-arrive-at-the-solution\n",
        "\n",
        "### What I learned from this review:\n",
        "\n",
        "This Solution used Java which I do not yet know how to use, however using some basic reasoning and my understanding of code from what I know in Python I was able to breakdown the logic from this code:\n",
        "\n",
        "\n"
      ],
      "metadata": {
        "id": "k5w6UDyuLttC"
      }
    },
    {
      "cell_type": "code",
      "source": [
        "# Solution's Java Code\n",
        "\n",
        "while (b != 0) {\n",
        "    int carry = (a & b) << 1;\n",
        "\n",
        "    a = a ^ b;\n",
        "\n",
        "    b = carry;\n",
        "}\n",
        "return a;\n"
      ],
      "metadata": {
        "id": "DT6gnzCXPXvR"
      },
      "execution_count": null,
      "outputs": []
    },
    {
      "cell_type": "markdown",
      "source": [
        "What I've gathered from this code on my own so far is,\n",
        "- While there’s still a carry, b doesn't equal 0\n",
        "\n",
        "- We want to find where both bits are 1 (which are a & b).\n",
        "\n",
        "- Return a once the loop has no carry (like we said in the breakdown)\n",
        "\n",
        "Moreover, the solution's description gave me some more insight into how this problem can be broken down,\n",
        "\n",
        "- He explained XOR the two numbers (which is the `a ^ b` function inside the loop) to get a partial sum without carry.\n",
        "\n",
        "- We also want to replace a with the new partial sum.\n",
        "\n",
        "- Lastly we replace b with the shifted carry (to the left).\n",
        "\n",
        "- When there’s no carry left, a is the answer and we return `a` as the answer.\n",
        "\n",
        "I'm now going to try writing my draft code from this reviewed solution in Python, following the same logic."
      ],
      "metadata": {
        "id": "Qxn9B7pmPeQo"
      }
    },
    {
      "cell_type": "code",
      "source": [
        "# Draft Code\n",
        "\n",
        "while b != 0:\n",
        "    carry = (a ^ b) << 1    # Bits that will be carried\n",
        "    a = (a XOR b)         # Same partial sum\n",
        "    b = carry               # Move carry\n",
        "print(a)                    # Return answer once no carry left"
      ],
      "metadata": {
        "colab": {
          "base_uri": "https://localhost:8080/",
          "height": 106
        },
        "id": "nyvuRWqhQ_Bm",
        "outputId": "bff980f3-160c-49e3-dbcd-ccbef54556e9"
      },
      "execution_count": null,
      "outputs": [
        {
          "output_type": "error",
          "ename": "SyntaxError",
          "evalue": "invalid syntax. Perhaps you forgot a comma? (ipython-input-1478364759.py, line 5)",
          "traceback": [
            "\u001b[0;36m  File \u001b[0;32m\"/tmp/ipython-input-1478364759.py\"\u001b[0;36m, line \u001b[0;32m5\u001b[0m\n\u001b[0;31m    a = (a XOR b)         # Same partial sum\u001b[0m\n\u001b[0m         ^\u001b[0m\n\u001b[0;31mSyntaxError\u001b[0m\u001b[0;31m:\u001b[0m invalid syntax. Perhaps you forgot a comma?\n"
          ]
        }
      ]
    },
    {
      "cell_type": "markdown",
      "source": [
        "## 3. Final Working Code"
      ],
      "metadata": {
        "id": "EMcYqtL0UrUc"
      }
    },
    {
      "cell_type": "code",
      "source": [
        "from typing import Final\n",
        "\n",
        "def get_sum(a: int, b: int) -> int:\n",
        "\n",
        "    MASK: Final[int] = 0xFFFFFFFF\n",
        "    MAX_SIGNED: Final[int] = 0x7FFFFFFF\n",
        "\n",
        "    a &= MASK\n",
        "    b &= MASK\n",
        "\n",
        "    while b != 0:\n",
        "        carry = (a & b) & MASK      # reason: only 1&1 generates a carry\n",
        "        a = (a ^ b) & MASK          # reason: XOR = sum without carry (mod 2)\n",
        "        b = (carry << 1) & MASK     # reason: carries move to next higher bit\n",
        "\n",
        "    # back to signed Python int\n",
        "    return a if a <= MAX_SIGNED else ~(a ^ MASK)\n",
        "\n",
        "# AI DISCLAIMER: I used ChatGPT (level-4) to:\n",
        "\n",
        "# 1. Review my draft logic,\n",
        "\n",
        "# 2. add comments to explain why specific changes were made, which explained masking is required in Python,\n",
        "\n",
        "# 3. generate a concise code-review checklist and test set.\n",
        "\n",
        "# Prompt: {\"Given this sum of two integers problem, I was able to breakdown this and create this draft code, can you take this and convert it to a professional, beginner friendly, finalized working code, with no errors and explain why you made all the changes you do.\"}"
      ],
      "metadata": {
        "id": "CeeT0Y2NUudU"
      },
      "execution_count": null,
      "outputs": []
    },
    {
      "cell_type": "markdown",
      "source": [
        "## 4. Review & Fixes\n",
        "\n"
      ],
      "metadata": {
        "id": "YeMJSwdPWBHE"
      }
    },
    {
      "cell_type": "code",
      "source": [
        "# Fix 1\n",
        "# Problem in draft: The draft logic works for positives, but with negatives, the carry can keep shifting left without ever vanishing.\n",
        "\n",
        "# Draft (not ideal for negatives in Python)\n",
        "while b != 0:\n",
        "    carry = (a & b) << 1\n",
        "    a = a ^ b\n",
        "    b = carry\n",
        "return a\n",
        "\n",
        "\n",
        "# Fixed Version (Guarantees termination and correct negatives)\n",
        "MASK = 0xFFFFFFFF\n",
        "MAX_SIGNED = 0x7FFFFFFF\n",
        "\n",
        "a &= MASK\n",
        "b &= MASK\n",
        "\n",
        "while b != 0:\n",
        "    carry = (a & b) & MASK\n",
        "    a = (a ^ b) & MASK\n",
        "    b = (carry << 1) & MASK\n",
        "\n",
        "result = a if a <= MAX_SIGNED else ~(a ^ MASK)\n",
        "return result\n",
        "# Guarantees termination and correct negatives"
      ],
      "metadata": {
        "collapsed": true,
        "id": "vBlUBwpXWrLr"
      },
      "execution_count": null,
      "outputs": []
    },
    {
      "cell_type": "code",
      "source": [
        "# Fix 2 (Structure, and correctness guards)\n",
        "\n",
        "# Draft\n",
        "while b != 0:\n",
        "    carry = (a & b) << 1\n",
        "    a = a ^ b\n",
        "    b = carry\n",
        "return a\n",
        "# Problem: No upfront normalization into 32-bit space.\n",
        "\n",
        "# Fixed Version (clear invariants)\n",
        "MASK = 0xFFFFFFFF\n",
        "MAX_SIGNED = 0x7FFFFFFF\n",
        "\n",
        "a &= MASK\n",
        "b &= MASK\n",
        "\n",
        "# True sum preserved as (sum_without_carry, carry) inside this loop.\n",
        "while b != 0:\n",
        "    carry = (a & b) & MASK\n",
        "    a = (a ^ b) & MASK\n",
        "    b = (carry << 1) & MASK\n",
        "\n",
        "return a if a <= MAX_SIGNED else ~(a ^ MASK)\n",
        "\n",
        "# Fixing normalization makes behavior predictable."
      ],
      "metadata": {
        "id": "TVWBe2s5X2ZN"
      },
      "execution_count": null,
      "outputs": []
    },
    {
      "cell_type": "markdown",
      "source": [
        "## 5. Reflection on Contribution\n",
        "\n",
        "1. I used ChatGPT (Level 4) to help me review my draft code based on the peer solution I reviewed, and confirm how the `XOR` `+` `AND` `<< 1` pattern works for addition without the `+` operator. The AI also helped me understand why masking was required in Python to prevent infinite loops with negative numbers.\n",
        "\n",
        "2. The draft code I wrote on my own correctly implemented the core logic, which is where the flowchart came in and helped with structure, but I noticed it failed on negative inputs when testing.\n",
        "\n",
        "3. ChatGPT provided feedback on code structure, I verified all arithmetic operations and step-by-step logic independently, the AI’s role wasn't limited to refinement and explanatory comments, it also I contributed a lot to the final debugging, validation, and confirmation that the code passed every test case. I still made sure to follow along and make sure I understood the logic of the code it generated after. It did the heavy lifting with the final code for sure, despite my understanding after the fact."
      ],
      "metadata": {
        "id": "ud0bRH69ZcUm"
      }
    },
    {
      "cell_type": "markdown",
      "source": [
        "# Problem 2 (Convert Date to Binary)\n",
        "----------"
      ],
      "metadata": {
        "id": "RVrlqim8SoDS"
      }
    },
    {
      "cell_type": "markdown",
      "source": [
        "## 1: Breakdown and Understanding\n",
        "\n",
        "After what I discovered in problem 1, converting these inputs (eg. 2020-02-29), to binary should be fairly straight forward. All we have to do is run a loop to split the day/month/year apart. After that, convert the year, then the month, and the day into base2, then return the date in base2 at the end of the loop with the hyphens between the day/month/year.\n",
        "\n",
        "The computational thinking pillars for this are:\n",
        "1. Decomposition\n",
        "\n",
        "To break this problem down into several smaller steps (decomposition), first, we can take the input string in the format yyyy-mm-dd and split it into three components: year, month, and day. Then, each component can be converted into base 2 as a binary representation. Finally, we join the three binary strings together with hyphens and return the final output.\n",
        "\n",
        "2. Pattern recognition\n",
        "\n",
        "This follows a pattern where we split a structured string, transform each part, and then return the transformed result which follows a “split, convert, join” pattern.\n",
        "\n",
        "3. Abstraction\n",
        "\n",
        "To simplify this problem by ignoring unnecessary details (abstraction), we find the input is guaranteed to be a yyyy-mm-dd format date, we do not need to worry about leap years, invalid months, or anything outside of real dates. We only focus on the numbers being converted. With this in mind we can use Python’s built-in bin() function explained in the lectures to handle binary conversion rather than manually performing division and other mathematical operations.\n",
        "\n",
        "\n",
        "4. Algorithmic thinking\n",
        "\n",
        "The algorithm follows a clear and logic where we start by taking the input date string, then split it into year, month, and day, and then convert each of these to an integer. Each integer is then converted into binary, and the three binary strings are then split with hyphens. The algorithm’s input is a valid date string, and its output is a new string showing each component in binary. Since the date format and constraints are fixed, the algorithm runs and produces the binary conversion.\n",
        "\n",
        "### Inputs/Outputs:\n",
        "\n",
        "Inputs:\n",
        "date = \"2080-02-29\"\n",
        "date = \"1900-01-01\"\n",
        "\n",
        "Outputs:\n",
        "\"100000100000-10-11101\"\n",
        "\"11101101100-1-1\"\n",
        "\n",
        "### Constraints:\n",
        "\n",
        "date.length == 10\n",
        "date[4] == date[7] == '-', and all other date[i]'s are digits.\n",
        "The input is generated such that date represents a valid Gregorian calendar date between Jan 1st, 1900 and Dec 31st, 2100 (both inclusive).\n",
        "\n"
      ],
      "metadata": {
        "id": "6P_AM1xgTTt0"
      }
    },
    {
      "cell_type": "markdown",
      "source": [
        "## 2. Peer Review & Draft Code\n",
        "\n",
        "I reviewed the following solution under the solutions tab for this problem:\n",
        "https://leetcode.com/problems/convert-date-to-binary/solutions/7177159/easy-beginner-friendly-answer/\n",
        "\n",
        "This solution used python and followed the same pattern as I outlined in section 1: split, convert to binary, join. The logic of this code made sure the constraints were met and also made me realize that your code must have the month/day leading zeros disappear automatically when making the split sections into integers, and no calendar validation is needed because the input is always a valid date of the calendar year."
      ],
      "metadata": {
        "id": "-LNJNUFtPrMu"
      }
    },
    {
      "cell_type": "code",
      "source": [
        "# Draft Code\n",
        "\n",
        "def convert_date_to_binary(self, date: str) -> str:\n",
        "        # 1) split into sections\n",
        "        split = ('-')\n",
        "\n",
        "        # 2) Convert to integers (drops leading zeros (eg. \"02\" --> 2))\n",
        "        yr = int(split[0]);\n",
        "        mon = int(split[1]);\n",
        "        day = int(split[2])\n",
        "\n",
        "        # Convert to binary strings (no leading zeros)\n",
        "        yrb = format(y, 'b')               # same as bin(y)[2:]\n",
        "        monb = format(m, 'b')\n",
        "        dayb = format(d, 'b')\n",
        "\n",
        "        # 4) join\n",
        "        return yrb + \"-\" + monb + \"-\" + dayb"
      ],
      "metadata": {
        "id": "fTxykljfPq8Y"
      },
      "execution_count": null,
      "outputs": []
    },
    {
      "cell_type": "markdown",
      "source": [
        "## 3. Final correct code"
      ],
      "metadata": {
        "id": "L0UcGaV9jea0"
      }
    },
    {
      "cell_type": "code",
      "source": [
        "def convertDateToBinary(self, date: str) -> str:\n",
        "        \"\"\"\n",
        "        Convert a date in 'yyyy-mm-dd' format into its binary representation.\n",
        "        Each of year, month, and day are converted to binary without leading zeros.\n",
        "\n",
        "        Improvements from draft:\n",
        "        - Correctly splits the date string using .split('-')\n",
        "        - Fixed wrong variable names (y → yr, m → mon, etc.)\n",
        "        - Removed unnecessary parentheses and semicolons\n",
        "        - Simplified binary conversion using format(int(x), 'b')\n",
        "        - Added clear inline comments for readability\n",
        "        \"\"\"\n",
        "\n",
        "        # 1) Split into parts: ['yyyy', 'mm', 'dd']\n",
        "        parts = date.split('-')\n",
        "\n",
        "        # 2) Convert to integers (automatically drops leading zeros)\n",
        "        yr = int(parts[0])\n",
        "        mon = int(parts[1])\n",
        "        day = int(parts[2])\n",
        "\n",
        "        # 3) Convert each to binary (without leading zeros)\n",
        "        yr_bin = format(yr, 'b')     # year in binary\n",
        "        mon_bin = format(mon, 'b')   # month in binary\n",
        "        day_bin = format(day, 'b')   # day in binary\n",
        "\n",
        "        # 4) Join them back into final string\n",
        "        return f\"{yr_bin}-{mon_bin}-{day_bin}\"\n",
        "\n",
        "    # AI Disclaimer: I used ChatGPT (Level 4) to review my draft code and create a final corrected version.\n",
        "      # The AI helped me identify syntax errors (split misuse, variable names) and improve readability.\n",
        "      # I verified all logic myself by tracing the code manually.\n",
        "    # Prompt: {“Here is my draft code for Convert Date to Binary. Can you use Level 4 AI to fix any logical or other errors and, improve structure and readability.”}"
      ],
      "metadata": {
        "id": "EEabx4vdkMiU"
      },
      "execution_count": null,
      "outputs": []
    },
    {
      "cell_type": "markdown",
      "source": [
        "## 4. Review & Fixes"
      ],
      "metadata": {
        "id": "mHoTdAtnlH4z"
      }
    },
    {
      "cell_type": "code",
      "source": [
        "# Fix 1 - Incorrect splitting and variable naming\n",
        "\n",
        "# The draft mistakenly assigned split = ('-'), which just creates a string containing a hyphen instead of splitting the input date.\n",
        "\n",
        "# Fixed version:\n",
        "parts = date.split('-')   # correctly splits into ['yyyy', 'mm', 'dd']\n",
        "yr = int(parts[0])\n",
        "mon = int(parts[1])\n",
        "day = int(parts[2])\n",
        "\n",
        "yr_bin = format(yr, 'b')\n",
        "mon_bin = format(mon, 'b')\n",
        "day_bin = format(day, 'b')\n",
        "\n",
        "return f\"{yr_bin}-{mon_bin}-{day_bin}\"\n",
        "\n"
      ],
      "metadata": {
        "id": "L4MsVZ08lPH-"
      },
      "execution_count": null,
      "outputs": []
    },
    {
      "cell_type": "code",
      "source": [
        "# Fix 2 - Code structure/readability\n",
        "\n",
        "# ChatGPT explained that in my draft code, \"the output concatenation was done using raw string addition rather than formatted strings.\"\n",
        "# It also helped the user understand what was happening in each step by adding inline comments to the code\n",
        "\n",
        "# Fixed version:\n",
        "\n",
        "# Convert each integer to binary (no leading zeros)\n",
        "    # 3) Convert each to binary (without leading zeros)\n",
        "    yr_bin = format(yr, 'b')     # year in binary\n",
        "    mon_bin = format(mon, 'b')   # month in binary\n",
        "    day_bin = format(day, 'b')   # day in binary\n",
        "\n",
        "     # 4) Join them back into final string\n",
        "    return f\"{yr_bin}-{mon_bin}-{day_bin}\"\n",
        "\n"
      ],
      "metadata": {
        "id": "ozqxf1aKlzYZ"
      },
      "execution_count": null,
      "outputs": []
    },
    {
      "cell_type": "markdown",
      "source": [
        "## 5. Reflection of Contribution\n",
        "\n",
        "1) I used ChatGPT (Level 4) to help identify any errors or structure issues in my draft code, specifically where I incorrectly used `split = ('-')` instead of calling `date.split('-')`, and where variable names did not match between assignment and binary conversion. Level 4 AI also suggested using formatted strings `(f\"{...}\")` for easier to understand outputs and also added inline comments for the same reason.\n",
        "\n",
        "2) I personally contributed by breaking down the problem and the logic. I also verified that the binary conversion worked correctly with the functions I used that were used in the peer reviewed solution.\n",
        "\n",
        "3) ChatGPT level-4 was primarily used for syntax review, structure improvement, and comments. I manually verified the algorithm and ensured the code's logic was correct."
      ],
      "metadata": {
        "id": "NwqXHoQZmnrW"
      }
    },
    {
      "cell_type": "markdown",
      "source": [
        "# Problem 3 (Number of 1 Bits)\n",
        "\n",
        "------"
      ],
      "metadata": {
        "id": "CW2cb3O7S8Pn"
      }
    },
    {
      "cell_type": "markdown",
      "source": [
        "## 1. Breakdown and understanding\n",
        "\n",
        "I wasn't familiar with set bits before reviewing the hamming weight wikipedia article attached to the problem and reviewing the definition of set bits in the problem. After understanding this I understand that the problem is asking if you have `n=11`, in binary this will be represented as `1011`. The 1s are called set bits, therefore `n=11` has 3 set bits, since `1011` has 3, 1s (set bits)\n",
        "\n",
        "#### Inputs/Outputs\n",
        "Inputs:\n",
        "`n = 11` ; `n = 128` ; `n = 2147483645`\n",
        "\n",
        "Outputs:\n",
        "`3` ; `1` ; `30`\n",
        "\n",
        "Constraints:\n",
        "`1 <= n <= 231 - 1`\n",
        "\n",
        "#### Computational Thinking Pillars Breakdown\n",
        "1. Problem Decomposition\n",
        "    - Take the integer input n\n",
        "    - Convert n to binary form\n",
        "    - Count how many bits are equal to 1\n",
        "    - Return that count\n",
        "\n",
        "2. Pattern Recognition\n",
        "    - Finding `n` in binary\n",
        "    - Counting the set bits\n",
        "    - Returning the count\n",
        "\n",
        "3. Abstraction\n",
        "    - Ignore the specific binary digits themselves, only count how many are 1s\n",
        "    - Abstract away the actual binary number and focus on how many times the bits are 1 before the end of the binary number\n",
        "\n",
        "4. Algorithmic Thinking\n",
        "    - Input: positive integer n.\n",
        "    - Start a counter count (= 0)\n",
        "    - While n = 0 disregard and go to next bit in the binary number\n",
        "    - If n > 0 add to running count\n",
        "    - Output: count"
      ],
      "metadata": {
        "id": "bEd9r6GIp8vy"
      }
    },
    {
      "cell_type": "markdown",
      "source": [
        "## 2. Peer Review and Draft Code\n",
        "\n",
        "I reviewed one of the top solutions:\n",
        "https://leetcode.com/problems/number-of-1-bits/solutions/7270854/counting-1s-like-a-pro-hamming-weight-in-5-languages-java-python-c-c-go/\n",
        "\n",
        "What I learned from this solution was that the problem asks for the Hamming Weight, which means counting the number of set bits in a number’s binary string. In Python, the clean equivalent is converting the number to binary using bin(n) and counting '1' bits using .count('1'). This skips having to manually loop and shift anything, which made the logic very easy to follow and I'd imagine made the code very efficient."
      ],
      "metadata": {
        "id": "XD7ACknsbf8k"
      }
    },
    {
      "cell_type": "code",
      "source": [
        "# Draft Code\n",
        "\n",
        "def hammingWeight(self, n: int) -> int:\n",
        "        # Convert integer to binary string, e.g., 11 -> '0b1011'\n",
        "        binary_form = bin(n)\n",
        "\n",
        "        # Count how many '1' characters are in the binary representation\n",
        "        ones = binary_form.count('1')\n",
        "\n",
        "        # Return that count\n",
        "        return ones"
      ],
      "metadata": {
        "id": "AymvKI8gbpHX"
      },
      "execution_count": null,
      "outputs": []
    },
    {
      "cell_type": "markdown",
      "source": [
        "## 3. Final Corrected Code"
      ],
      "metadata": {
        "id": "IoXC6JAfbih2"
      }
    },
    {
      "cell_type": "code",
      "source": [
        "def hammingWeight(self, n: int) -> int:\n",
        "        \"\"\"\n",
        "        Return the number of set bits (1s) in the binary representation of n.\n",
        "        Also known as the Hamming Weight.\n",
        "\n",
        "        Improvements from draft:\n",
        "        - Added function documentation and inline comments.\n",
        "        - Simplified variable usage for conciseness and clarity.\n",
        "        - Ensured compatibility with LeetCode's testing environment.\n",
        "        - Verified handling of edge cases like n = 0.\n",
        "        \"\"\"\n",
        "\n",
        "        # Convert integer to binary string (e.g., 11 -> '0b1011')\n",
        "        binary_string = bin(n)\n",
        "\n",
        "        # Count and return number of '1' bits in binary representation\n",
        "        return binary_string.count('1')\n",
        "\n",
        "# AI Disclaimer: I used ChatGPT (GPT-5, Level 4 AI) to refine my draft code for readability, correctness, and documentation clarity.\n",
        "# The AI suggested removing redundant variables, improving comments, and verifying \"edge-case handling.\"\n",
        "# Prompt: {Given this draft code I create, refine it for the Hamming Weight problem, make it clean, professional, and fully functional. Include detailed comments, a short explanation of fixes.}"
      ],
      "metadata": {
        "id": "KZq79NrqbrIL"
      },
      "execution_count": null,
      "outputs": []
    },
    {
      "cell_type": "markdown",
      "source": [
        "## 4. Review & Fixes"
      ],
      "metadata": {
        "id": "xPLBaY0kbsP0"
      }
    },
    {
      "cell_type": "code",
      "source": [
        "# Fix 1\n",
        "\n",
        "# Draft Version\n",
        "    def hammingWeight(self, n: int) -> int:\n",
        "        binary_form = bin(n)\n",
        "        ones = binary_form.count('1')\n",
        "        return ones\n",
        "\n",
        "# Corrected Version\n",
        "    def hammingWeight(self, n: int) -> int:\n",
        "        \"\"\"Return the number of set bits (1s) in n's binary representation.\"\"\"\n",
        "        return bin(n).count('1')\n",
        "\n",
        "# This was correct before but AI explained this was a cleaner way to express the code.\n"
      ],
      "metadata": {
        "id": "tPqzux9sbrzE"
      },
      "execution_count": null,
      "outputs": []
    },
    {
      "cell_type": "code",
      "source": [
        "# Fix 2\n",
        "\n",
        "# Draft Code\n",
        "    def hammingWeight(self, n: int) -> int:\n",
        "        count = 0\n",
        "        while n > 0:\n",
        "            count += (n & 1)\n",
        "            n >>= 1\n",
        "        return count\n",
        "\n",
        "# Corrected Version\n",
        "    def hammingWeight(self, n: int) -> int:\n",
        "        \"\"\"Brian Kernighan: repeatedly clear the lowest-set bit.\"\"\"\n",
        "        count = 0\n",
        "        while n:\n",
        "            n &= n - 1  # clears the lowest 1-bit\n",
        "            count += 1\n",
        "        return count\n",
        "\n",
        "  # Each loop clears one set bit, so it runs only as many times as there are 1s,\n",
        "  # this makes the code more efficient when large numbers are used. AI also explained that this is considered,\n",
        "  # a \"classic bit-manipulation technique worth demonstrating.\" which is useful to learn.\n",
        "\n"
      ],
      "metadata": {
        "id": "X_RIi5IUbvpZ"
      },
      "execution_count": null,
      "outputs": []
    },
    {
      "cell_type": "markdown",
      "source": [
        "## 5. Reflection on Contribution\n",
        "\n",
        "1. I used ChatGPT (Level 4) to refine my draft code for the problem after trying to follow what I learned from the peer-reviewed solution. AI helped me use  `bin(n).count('1')` for clarity and a \"classic example of a bit trick\" to optimize the loop, as well as adding some small comments into the code.\n",
        "\n",
        "2. My contributions were:\n",
        "- Validating correctness for the logic of the code\n",
        "- Making sure the final code matched the logic I drafted as well as the peer-reviewed solution.\n",
        "- I manually traced the Kernighan loop on `n = 11 (1011₂)` to confirm that each n &= n - 1 iteration clears exactly one 1-bit and increments the count correctly.\n",
        "- Lastly, I verified that `bin(0).count('1')` returns `0` and that both produce the same results across the example test sets on LeetCode."
      ],
      "metadata": {
        "id": "2OC1-bn3byOK"
      }
    },
    {
      "cell_type": "markdown",
      "source": [
        "------"
      ],
      "metadata": {
        "id": "rO2GcqUdTY9T"
      }
    },
    {
      "cell_type": "markdown",
      "source": [
        "# Problem 4 (Recursion) Reverse Integer\n",
        "\n",
        "--------"
      ],
      "metadata": {
        "id": "7tQQGx41S-Le"
      }
    },
    {
      "cell_type": "markdown",
      "source": [
        "## 1. Breakdown and Understanding\n",
        "A) Subproblems\n",
        "* Each call removes one digit and adds it to the reversed number until no digits remain.\n",
        "\n",
        "B) Base case / recursive step\n",
        "* Base case: when x = 0, return accumulator.\n",
        "* Recursive step: take last digit `(x % 10)`, add it to rev * 10, then call with `x // 10.`\n",
        "\n",
        "C) Call stack\n",
        "Each call handles one digit. The stack depth equals the number of digits.\n",
        "\n",
        "D) Recursion style\n",
        "* **Tail recursion** with a parameter rev that stores the partial answer each time.\n",
        "\n",
        "E) Combine subproblems\n",
        "Multiply rev by 10 and add the current digit each step.\n",
        "\n",
        "F) Compare to other recursion problems\n",
        "Similar shrinking input idea but here we check for overflow each step.\n",
        "\n",
        "G) Iterative comparison\n",
        "The loop version uses a while loop instead of recursive calls but does the same math.\n",
        "\n",
        "H) Change to other styles\n",
        "We could use Head recursion as the other style example as, it would build digits on return whereas tail recursion already applies here. 'Parameterized' just means passing rev.\n",
        "\n",
        "I) Edge cases / constraints\n",
        "Handle sign by working with `abs(x)` then re-apply sign, then stop if reversed value would overflow."
      ],
      "metadata": {
        "id": "0dJMmBiUS_ol"
      }
    },
    {
      "cell_type": "markdown",
      "source": [
        "## 2. Peer-Review and Draft Code\n",
        "\n",
        "I reviewed the following solution on LeetCode:\n",
        "https://leetcode.com/problems/reverse-integer/solutions/7261432/clean-simple-beats-easy-to-understand-efficient/\n",
        "\n",
        "What I learned:\n",
        "The main idea to solve this problem is to reverse digits safely while respecting 32-bit limits. This solution converts the number to a string, reverses it with slicing, and handles the negative sign separately. This avoids manual modulus/division. The overflow guard is a simple range check between `−2**31` and `2**31 − 1.`"
      ],
      "metadata": {
        "id": "J9om_75ZLkhQ"
      }
    },
    {
      "cell_type": "code",
      "source": [
        "# Draft Code\n",
        "def reverseInteger(self, x: int, rev: int = 0) -> int:\n",
        "        # Base case: when input is 0, return accumulated reversed number\n",
        "        if x == 0:\n",
        "            return rev\n",
        "\n",
        "        # Extract last digit and append it to reversed value\n",
        "        digit = x % 10\n",
        "        new_rev = rev * 10 + digit\n",
        "\n",
        "        # Recursive step on reduced number\n",
        "        return self.reverseInteger(x // 10, new_rev)"
      ],
      "metadata": {
        "id": "uuKBl1YXLjFc"
      },
      "execution_count": null,
      "outputs": []
    },
    {
      "cell_type": "markdown",
      "source": [
        "## 3. Final Corrected Solution\n"
      ],
      "metadata": {
        "id": "YDCH_dDvMq0p"
      }
    },
    {
      "cell_type": "code",
      "source": [
        "def reverse(self, x: int) -> int:\n",
        "        \"\"\"\n",
        "        Reverse a signed 32-bit integer using parameterized tail recursion.\n",
        "        Return 0 if the reversed value overflows the 32-bit signed range.\n",
        "\n",
        "        Why this differs from the draft:\n",
        "        - Added explicit *sign* handling (work on abs(x), reapply sign at the end).\n",
        "        - Added per-step 32-bit overflow guard BEFORE multiplying by 10 and adding a digit.\n",
        "        - Proper base case (n == 0) and parameterized recursion with accumulator `rev`.\n",
        "        - Avoids string tricks to keep the focus on a recursive numeric solution.\n",
        "        \"\"\"\n",
        "\n",
        "        INT_MIN, INT_MAX = -2**31, 2**31 - 1\n",
        "        sign = -1 if x < 0 else 1\n",
        "        n = abs(x)\n",
        "\n",
        "        def rec(n: int, rev: int) -> int:\n",
        "            # Base case: no digits left → return accumulated reverse\n",
        "            if n == 0:\n",
        "                return rev\n",
        "\n",
        "            digit = n % 10\n",
        "\n",
        "            # Overflow guard BEFORE we do rev*10 + digit.\n",
        "            # rev_new must be <= INT_MAX for positive path; rev is nonnegative.\n",
        "            if rev > (INT_MAX - digit) // 10:\n",
        "                # Signal overflow to caller (we’ll map this to return 0).\n",
        "                raise OverflowError\n",
        "\n",
        "            rev_new = rev * 10 + digit\n",
        "            return rec(n // 10, rev_new)  # tail-recursive step with smaller input\n",
        "\n",
        "        try:\n",
        "            rev_abs = rec(n, 0)\n",
        "            result = sign * rev_abs\n",
        "            # Final safety check (paranoia; per-step guard should already ensure this)\n",
        "            return result if INT_MIN <= result <= INT_MAX else 0\n",
        "        except OverflowError:\n",
        "            return 0\n",
        "\n",
        "# AI Disclaimer: I used ChatGPT (Level 4) to help me understand how to make my recursive code more efficient and more readable.\n",
        "# The AI explained how to add an overflow check, handle negative numbers properly, and use a helper function with parameters for recursion.\n",
        "# I wrote and tested the code myself in Python to make sure it works for all examples and that I understand what each part does.\n",
        "# Prompt: {Here is my draft recursive code for the Reverse Integer problem. Given this draft code I created, refine it, make it clean, professional, and fully functional. Include detailed comments, a short explanation of fixes.}"
      ],
      "metadata": {
        "id": "OvKTu9KRNgmO"
      },
      "execution_count": null,
      "outputs": []
    },
    {
      "cell_type": "markdown",
      "source": [
        "## 4. Review & Fixes"
      ],
      "metadata": {
        "id": "GhFPULkHOc0Q"
      }
    },
    {
      "cell_type": "code",
      "source": [
        "# Fix 1\n",
        "\n",
        "# Draft Version\n",
        "def reverseInteger(self, x: int, rev: int = 0):\n",
        "    if x == 0:\n",
        "        return rev\n",
        "    digit = x % 10\n",
        "    new_rev = rev * 10 + digit\n",
        "    return self.reverseInteger(x // 10, new_rev)\n",
        "\n",
        "# Corrected Version\n",
        "sign = -1 if x < 0 else 1   # keep the sign\n",
        "n = abs(x)                  # work with positive value\n",
        "result = self.reverseInteger(n, 0) * sign\n",
        "\n",
        "# Now the recursion works correctly for both positive AND negative inputs since it reverses the digits of the absolute value and puts the sign back at the end."
      ],
      "metadata": {
        "id": "Rmh-4i5COgNd"
      },
      "execution_count": null,
      "outputs": []
    },
    {
      "cell_type": "code",
      "source": [
        "# Fix 2\n",
        "\n",
        "# Draft Code\n",
        "new_rev = rev * 10 + digit\n",
        "return self.reverseInteger(x // 10, new_rev)\n",
        "\n",
        "# Corrected Version\n",
        "INT_MIN, INT_MAX = -2**31, 2**31 - 1\n",
        "if rev > (INT_MAX - digit) // 10:\n",
        "    raise OverflowError\n",
        "new_rev = rev * 10 + digit\n",
        "\n",
        "# The check stops the function before it goes past the 32-bit range. This makes the program \"safe\" and stops reutrning incorrect answers outside contraints."
      ],
      "metadata": {
        "id": "xdxRq46iOwew"
      },
      "execution_count": null,
      "outputs": []
    },
    {
      "cell_type": "markdown",
      "source": [
        "## 5. Reflection to Contribution\n",
        "\n",
        "1. I used ChatGPT (Level 4) to help me turn my draft code into a correct recursive solution. The AI pointed out two big issues in my draft: handling negative numbers and checking 32-bit overflow before doing `rev * 10` + digit. It also suggested using a \"helper function with an accumulator\" so the recursion is clear and stops when the number hits 0.\n",
        "\n",
        "2. My own work was:\n",
        "- Writing and tracing the recursion step by step\n",
        "- Adding the sign logic `sign = -1 if x < 0 else 1`, recurse on `abs(x)`, then reapply the sign\n",
        "- Putting in the overflow guard `rev > (INT_MAX - digit) // 10` before each multiply. I manually tested the examples from the problem. I also walked through the call stack on a small input to make sure the base case and accumulator behavior made sense."
      ],
      "metadata": {
        "id": "EYbQkfohO9ng"
      }
    },
    {
      "cell_type": "markdown",
      "source": [
        "------"
      ],
      "metadata": {
        "id": "oiP92F44TffW"
      }
    },
    {
      "cell_type": "markdown",
      "source": [
        "# Problem 5 (Recursion) Reverse String\n",
        "\n",
        "----"
      ],
      "metadata": {
        "id": "rM8MhcrjS_yF"
      }
    },
    {
      "cell_type": "markdown",
      "source": [
        "## 1. Understanding & Breakdown\n",
        "\n",
        "A) Sub-problems\n",
        "\n",
        "Each recursive call should swap two characters, one from the start and one from the end, and then move inward to the next pair.\n",
        "\n",
        "B) Base case(s) and recursive step\n",
        "\n",
        "* Base case: stop when the start index meets or passes the end index.\n",
        "* Recursive step: swap left and right, then call the function again with left + 1 and right - 1.\n",
        "\n",
        "C) Call stack\n",
        "\n",
        "Each call handles one pair of swaps, so the call stack gets as deep as half the string’s length. After hitting the base case, the calls go back up naturally without needing extra storage.\n",
        "\n",
        "D) Recursion style\n",
        "\n",
        "**Head recursion**, because we perform a swap first (work before the recursive call), and then let the recursion handle the smaller subproblem.\n",
        "\n",
        "E) Combine subproblems\n",
        "\n",
        "No combination step is needed I don't think. Each level directly swaps its pair, so by the time the recursion finishes, the whole array is reversed.\n",
        "\n",
        "F) Compare to the other recursive problem\n",
        "\n",
        "Like the Reverse Integer problem, this one also processes data from both ends toward the middle. But here we’re swapping characters instead of making a number, and there’s no overflow check or sign handling.\n",
        "\n",
        "G) Iterative comparison\n",
        "\n",
        "The loop version would just use a `while left < right` and swap inside it. The recursive version does the same logic using repeated function calls instead of a loop.\n",
        "\n",
        "H) Change between recursion styles\n",
        "\n",
        "An exmaple we could use here is making it a tail recursion, we could do the swap at the end instead of the start but this doesn't really make sense for this problem.\n",
        "\n",
        "I) Edge cases / constraints\n",
        "\n",
        "If the string has only one character, it just returns as is. If the string length is even or odd, both cases work the same because the middle swaps with itself or it isn’t touched. The recursion depth is at most `len(s) // 2`, which is safe for these input sizes."
      ],
      "metadata": {
        "id": "UFMgg_jmQFkn"
      }
    },
    {
      "cell_type": "markdown",
      "source": [
        "## 2. Peer Review & Draft Code\n",
        "\n",
        "I reviewed the following solution on LeetCode:\n",
        "\n",
        "https://leetcode.com/problems/reverse-string/solutions/3718521/easy-solution-with-simple-explanation/\n",
        "\n",
        "What I learned:\n",
        "\n",
        "The main idea is to use two pointers, one starting at the left end and one at the right end of the array, and then swap the characters they point to. You keep moving both pointers toward the center until they meet. This reverses the string in place without needing a new array, which satisfies the `O(1)` memory rule.\n",
        "\n",
        "This method runs in `O(n)` time because every character is touched only once, and it uses constant space since we only store two indices `(i and j)`.\n",
        "\n"
      ],
      "metadata": {
        "id": "huPf_Gy1Th3J"
      }
    },
    {
      "cell_type": "code",
      "source": [
        "# Draft Code\n",
        "\n",
        "def reverseString(self, s):\n",
        "        def helper(left, right):\n",
        "            # Base case: stop when indices meet or cross\n",
        "            if left >= right:\n",
        "                return\n",
        "\n",
        "            # Swap the current pair of characters\n",
        "            s[left], s[right] = s[right], s[left]\n",
        "\n",
        "            # Recursive call on the next pair inward\n",
        "            helper(left + 1, right - 1)\n",
        "\n",
        "        # Start recursion from both ends of the array\n",
        "        helper(0, len(s) - 1)"
      ],
      "metadata": {
        "id": "RsRxbwR8Rvg-"
      },
      "execution_count": null,
      "outputs": []
    },
    {
      "cell_type": "markdown",
      "source": [
        "## 3. Final Corrected Solution"
      ],
      "metadata": {
        "id": "GZbIEcyPRwv7"
      }
    },
    {
      "cell_type": "code",
      "source": [
        "from typing import List\n",
        "\n",
        "class Solution:\n",
        "    def reverseString(self, s: List[str]) -> None:\n",
        "        \"\"\"\n",
        "        Reverse the array of characters s in place using recursion.\n",
        "        We only use O(1) extra memory (just a few indexes), and no new arrays.\n",
        "        \"\"\"\n",
        "\n",
        "        def helper(left: int, right: int) -> None:\n",
        "            # Base case: when the two pointers meet or cross, we are done.\n",
        "            if left >= right:\n",
        "                return\n",
        "\n",
        "            # Swap the characters at the current ends.\n",
        "            s[left], s[right] = s[right], s[left]\n",
        "\n",
        "            # Recursive step: move both pointers toward the middle.\n",
        "            helper(left + 1, right - 1)\n",
        "\n",
        "        # Start the recursion from both ends of the list.\n",
        "        helper(0, len(s) - 1)\n",
        "\n",
        "# AI Disclaimer: I used ChatGPT (Level 4) to help me make my recursive solution clearer and correct.\n",
        "# The AI reminded me to use a clean base case `(left >= right)` and keep swaps in place so memory stays `O(1)`.\n",
        "# I wrote and tested the final code myself, and I understand how each recursive call swaps a pair and moves inward. Like all other final corrected solutions, I didn't copy paste anything generated directly.\n",
        "# Prompt: {Here is my draft recursive code for the Reverse String problem. Given this draft code I created, refine it, make it clean, professional, and fully functional. Include detailed comments, a short explanation of fixes.}\n"
      ],
      "metadata": {
        "id": "nKYeYSd5RzP-"
      },
      "execution_count": null,
      "outputs": []
    },
    {
      "cell_type": "markdown",
      "source": [
        "## 4. Review & Fixes"
      ],
      "metadata": {
        "id": "hzf003lzRzwM"
      }
    },
    {
      "cell_type": "code",
      "source": [
        "# Fix 1\n",
        "\n",
        "# Draft Code\n",
        "def helper(left, right):\n",
        "    # (base case was not clearly explained)\n",
        "    s[left], s[right] = s[right], s[left]\n",
        "    helper(left + 1, right - 1)\n",
        "\n",
        "# Corrected Version\n",
        "def helper(left, right):\n",
        "    if left >= right:        # stops when pointers meet or cross\n",
        "        return\n",
        "    s[left], s[right] = s[right], s[left]\n",
        "    helper(left + 1, right - 1)"
      ],
      "metadata": {
        "id": "OCAXXBYpR1o5"
      },
      "execution_count": null,
      "outputs": []
    },
    {
      "cell_type": "code",
      "source": [
        "# Fix 2\n",
        "\n",
        "# Draft Code\n",
        "def reverseString(self, s):\n",
        "    # might return a new list or string in some drafts\n",
        "    return s[::-1]           # creates a new object (not in-place)\n",
        "\n",
        "\n",
        "# Corrected Version\n",
        "from typing import List\n",
        "\n",
        "class Solution:\n",
        "    def reverseString(self, s: List[str]) -> None:  # correct signature\n",
        "        def helper(left: int, right: int) -> None:\n",
        "            if left >= right:\n",
        "                return\n",
        "            s[left], s[right] = s[right], s[left]   # swap in place\n",
        "            helper(left + 1, right - 1)\n",
        "\n",
        "        helper(0, len(s) - 1)\n",
        "        # returns None (s is modified in place)"
      ],
      "metadata": {
        "id": "u7kwxYidR6W0"
      },
      "execution_count": null,
      "outputs": []
    },
    {
      "cell_type": "markdown",
      "source": [
        "## 5. Reflection of Contribution\n",
        "\n",
        "1. I used ChatGPT (Level 4) to help me refine my recursive idea and make sure it matches the problem rules (in-place change and O(1) extra memory). The AI reminded me to keep a clear base case (left >= right), use a helper function with left and right.\n",
        "\n",
        "2. My own work was, writing and tracing the recursion by hand to see how the call stack moves inward: swap the ends, then call helper(left+1, right-1) until the pointers meet. I also checked small cases myself like [\"a\"] (no swap), even length like [\"a\",\"b\",\"c\",\"d\"], and odd length like [\"h\",\"e\",\"l\",\"l\",\"o\"] to confirm the base case stops correctly and everything is done in place. I understand why slicing like s[::-1] is not allowed here (creates a new list and breaks the O(1) memory rule)."
      ],
      "metadata": {
        "id": "bokXO1KlR9aH"
      }
    },
    {
      "cell_type": "markdown",
      "source": [
        "------"
      ],
      "metadata": {
        "id": "Z2sT8zHjTivY"
      }
    },
    {
      "cell_type": "markdown",
      "metadata": {
        "id": "YR8usq_lVloZ"
      },
      "source": [
        "# **The most important part of writing code is not the code itself, but the thinking that leads to it. Thank You 😀**"
      ]
    }
  ],
  "metadata": {
    "colab": {
      "provenance": [],
      "include_colab_link": true
    },
    "kernelspec": {
      "display_name": "Python 3",
      "name": "python3"
    },
    "language_info": {
      "name": "python"
    },
    "title": "CISC 121 – Assignment 2"
  },
  "nbformat": 4,
  "nbformat_minor": 0
}
