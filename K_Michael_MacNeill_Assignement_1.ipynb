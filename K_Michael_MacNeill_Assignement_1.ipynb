{
  "nbformat": 4,
  "nbformat_minor": 0,
  "metadata": {
    "colab": {
      "provenance": []
    },
    "kernelspec": {
      "name": "python3",
      "display_name": "Python 3"
    },
    "language_info": {
      "name": "python"
    }
  },
  "cells": [
    {
      "cell_type": "markdown",
      "source": [
        "# CISC 121 – Assignment-1\n",
        "\n",
        "## 🔗 Problem\n",
        "Fizz Buzz – https://leetcode.com/problems/fizz-buzz/\n",
        "\n",
        "Palindrome Number – https://leetcode.com/problems/palindrome-number/\n",
        "\n",
        "Reverse Integer – https://leetcode.com/problems/reverse-integer/\n",
        "\n",
        "Two Sum – https://leetcode.com/problems/two-sum/\n",
        "\n",
        "Valid Palindrome – https://leetcode.com/problems/valid-palindrome/\n"
      ],
      "metadata": {
        "id": "sAREeEgkZ515"
      }
    },
    {
      "cell_type": "markdown",
      "source": [
        "1. Your Name: K. Michael MacNeill\n",
        "2. Section: 001\n",
        "3. ID: 20494831\n",
        "4. https://github.com/k-michael-macneill-sys/CISC121-Assignments"
      ],
      "metadata": {
        "id": "SYt5mNEYdMHJ"
      }
    },
    {
      "cell_type": "markdown",
      "source": [
        "# Problem 1"
      ],
      "metadata": {
        "id": "utbl02ef0gUp"
      }
    },
    {
      "cell_type": "markdown",
      "source": [
        "\n",
        "## 1. Understanding & Breakdown\n",
        "\n",
        "Flowchart breaking down the problem:"
      ],
      "metadata": {
        "id": "XDTP95HH4_1w"
      }
    },
    {
      "cell_type": "markdown",
      "source": [
        "## 2. Peer Review & Draft Code\n",
        "\n",
        "I reviewed one of the top LeetCode solutions for Fizz Buzz and the discussion under it:\n",
        "https://leetcode.com/problems/fizz-buzz/solutions/6646296/conquer-fizzbuzz-with-the-cleanest-one-liner-logic-ever/\n",
        "\n",
        "What they did here was first check if i % 15 == 0 that way we will always return \"FizzBuzz\" first, then if it's false we check i % 3 == 0 to return only \"Fizz\" and that's false we check i % 5 == 0 to return only \"Buzz\" if this is also false then we return the number as a string and loop back after adding i = n + 1.\n",
        "\n",
        "Here is my attempt at a draft code based on what I have learned from this solution:"
      ],
      "metadata": {
        "id": "VZMFdgrq7pk6"
      }
    },
    {
      "cell_type": "code",
      "source": [
        "# Draft Code\n",
        "\n",
        "def fizzBuzz(n):\n",
        "    result =\n",
        "    for i in range(1, n + 1):\n",
        "        if i % 15 == 0:\n",
        "            print(\"FizzBuzz\")\n",
        "        elif i % 3 == 0:\n",
        "            print(\"Fizz\")\n",
        "        elif i % 5 == 0:\n",
        "            print(\"Buzz\")\n",
        "        else:\n",
        "            result(str(i))"
      ],
      "metadata": {
        "id": "n96pvJnkCNPO"
      },
      "execution_count": null,
      "outputs": []
    },
    {
      "cell_type": "markdown",
      "source": [
        "## 3. Final Correct Code"
      ],
      "metadata": {
        "id": "0KMN33g8MBE5"
      }
    },
    {
      "cell_type": "code",
      "source": [
        "# Final working solution\n",
        "\n",
        "def fizzBuzz(n: int) -> list[str]:\n",
        "    result = []\n",
        "    for i in range(1, n + 1):\n",
        "        if i % 15 == 0:         # divisible by both 3 and 5\n",
        "            result.append(\"FizzBuzz\")\n",
        "        elif i % 3 == 0:        # divisible by 3 only\n",
        "            result.append(\"Fizz\")\n",
        "        elif i % 5 == 0:        # divisible by 5 only\n",
        "            result.append(\"Buzz\")\n",
        "        else:\n",
        "            result.append(str(i))  # default: number as string\n",
        "    return result\n",
        "\n",
        "# AI Disclaimer: I used ChatGPT (Level 4) I used ChatGPT to help me clean up my final solution.\n",
        "# I asked about the order of conditions when checking divisibility by 3, 5, and 15, and it suggested putting the % 15 check first.\n",
        "# I then rewrote and tested the code myself to make sure it worked.\n",
        "# Prompt: {\"Can you help me finalize my FizzBuzz solution in Python, making sure the condition order (divisible by 15, 3, 5) is correct, and give me a short explanation?\"}\n"
      ],
      "metadata": {
        "id": "t-tAAmcNMO9H",
        "outputId": "0189d2b0-a067-4bd5-e3d3-09f154d8673b",
        "colab": {
          "base_uri": "https://localhost:8080/"
        }
      },
      "execution_count": null,
      "outputs": [
        {
          "output_type": "stream",
          "name": "stdout",
          "text": [
            "['1', '2', 'Fizz']\n",
            "['1', '2', 'Fizz', '4', 'Buzz']\n",
            "['1', '2', 'Fizz', '4', 'Buzz', 'Fizz', '7', '8', 'Fizz', 'Buzz', '11', 'Fizz', '13', '14', 'FizzBuzz']\n"
          ]
        }
      ]
    },
    {
      "cell_type": "markdown",
      "source": [
        "## 4. Review & Fixes\n",
        "\n",
        "1. I mistakenly put print(\") instead of result.append which lead to my code throwing an error and not running.\n",
        "\n",
        "2. In my draft, I didn't have a return function, I ended with an else: which created the looping string of integers, with the help of ChatGPT (level 4) when I gave my prompt it also helped fix this.\n",
        "\n",
        "3. I wasn't sure how to format the result = [], ChatGPT helped correct this also.\n"
      ],
      "metadata": {
        "id": "6c5GYReMNhfK"
      }
    },
    {
      "cell_type": "markdown",
      "source": [
        "#"
      ],
      "metadata": {
        "id": "zpz2GKq90e_J"
      }
    },
    {
      "cell_type": "markdown",
      "source": [
        "## 5. Reflection on Contribution\n",
        "\n",
        "1. I used ChatGPT (level 4) to double-check my code and make sure I was handling the \"FizzBuzz\" problem correctly. ChatGPT was helpful in helping me with syntax issues and other errors in my draft code, otherwise the output wouldn’t work. I still verified all logic in the code it generated after, myself.\n",
        "\n",
        "2. I noticed that the solution I reviewed on LeetCode was very 'efficient' in solving the problem, however as our guest mentioned in the last lecture, sometimes being too clever can make the code harder to read, like that guy that solved every problem on one line. I decided to go with a step-by-step draft code because it made more sense to me and I could clearly understand what was going on and see each condition sort of like my flowchart."
      ],
      "metadata": {
        "id": "3sGK_QuGRcvP"
      }
    },
    {
      "cell_type": "markdown",
      "source": [
        "# Problem 2"
      ],
      "metadata": {
        "id": "uLJUIuoLS6zw"
      }
    },
    {
      "cell_type": "markdown",
      "source": [
        "## 1. Understanding & Breakdown\n",
        "\n",
        "I asked ChatGPT (level 1) to explain the concept of a palindrome number to me and it explained that, A palindrome number is a number that reads the same forwards and backwards, such as 121 or 222 but not 122. It also explained negative numbers cannot be palindromes since the - sign will change sides when flipped.\n",
        "\n",
        "What I can see in the code is that we are trying to find out if the integer of x is the same number forwards and backwards.\n",
        "\n",
        "The inputs and outputs are:\n",
        " Input: x = 121\n",
        " Output: true\n",
        " Input: x = -121\n",
        " Output: false\n",
        " Input: x = 10\n",
        " Output: false\n",
        "\n",
        "The contraints are: -2^31 <= x <= 2^31 - 1\n",
        "\n",
        "The step by step process of solving this is as a pseudocode:\n",
        "\n",
        "1. Start\n",
        "2. Input x\n",
        "3. Is x < 0?\n",
        "4. If true,\n",
        "      Output F (end) -> Negative numbers can't be palindromes.\n",
        "5. If false,\n",
        "      Is x % 10 == 0? -> This takes the last digit\n",
        "6. Store last digit\n",
        "7. Add last digit to beginning and end of this number\n",
        "8. Are these two numbers = ?\n",
        "      If true,\n",
        "        Output: true\n",
        "      If False,\n",
        "        Output: false\n"
      ],
      "metadata": {
        "id": "Kax5lLsfTjXq"
      }
    },
    {
      "cell_type": "markdown",
      "source": [
        "## 2. Peer Review & Draft Code\n",
        "\n",
        "I reviewed the top solution on LeetCode for this palidrome number problem,\n",
        "https://leetcode.com/problems/palindrome-number/solutions/6044650/video-using-remainder/\n",
        "\n",
        "What I learned from the reviewed solution:\n",
        "\n",
        "The key trick is reversing the number:\n",
        "They took the last digit with x % 10 as I assumed would be the first step, but then they build the reversed number as \"rev = rev * 10 + last_digit.\" This removes the last digit from x using division (x //= 10.) They also kept (orig = x) stored before starting, so we can compare it at the end.\n",
        "\n",
        "\n",
        "In building my draft code now, I will check if x is negative, if so it will return False. Otherwise, I copy x to orig, reverse x using % 10 and // 10, and then compare the reversed number \"rev\" to the original \"orig.\" If they match, it’s a palindrome."
      ],
      "metadata": {
        "id": "Y2gOkLdjX4Pz"
      }
    },
    {
      "cell_type": "code",
      "source": [
        "# Draft Code\n",
        "\n",
        "def Palindrome(x):\n",
        "    if x < 0:\n",
        "        return False\n",
        "    if x % 10 == 0:\n",
        "        return False\n",
        "\n",
        "    orig = x\n",
        "    rev = 0\n",
        "\n",
        "    if x > 0:\n",
        "        last = x % 10\n",
        "        rev = rev * 10 + last\n",
        "        x //= 10\n",
        "\n",
        "    return rev == orig"
      ],
      "metadata": {
        "id": "zPKqhYl0a9oM"
      },
      "execution_count": null,
      "outputs": []
    },
    {
      "cell_type": "markdown",
      "source": [
        "## 3. Final Correct Code"
      ],
      "metadata": {
        "id": "v7m2jx-AdGTc"
      }
    },
    {
      "cell_type": "code",
      "source": [
        "def Palindrome(x):\n",
        "    if x < 0:\n",
        "        return False\n",
        "    if x % 10 == 0:\n",
        "        return False\n",
        "    orig = x\n",
        "    rev = 0\n",
        "    if x > 0:\n",
        "        last = x % 10\n",
        "        rev = rev * 10 + last\n",
        "        x //= 10\n",
        "    return rev == orig\n",
        "\n",
        "# AI Disclaimer: I used ChatGPT (Level 4) to refine my draft. It helped me identify two issues in my draft,\n",
        "   # 1. I only reversed one digit and incorrectly rejected 0\n",
        "   # 2. Suggested the half-reversal optimization. I verified the logic, and tested edge cases (x < 0, x = 0, x % 10 == 0).\n",
        "# Prompt: {\"I’m solving the Palindrome Number problem in Python. My draft reverses digits but fails some cases. Can you help me fix the logic and handle negative numbers correctly so that the function always returns true or false as expected?\"}"
      ],
      "metadata": {
        "id": "UY_eZOYZcr94"
      },
      "execution_count": null,
      "outputs": []
    },
    {
      "cell_type": "markdown",
      "source": [
        "## 4. Review & Fixes\n",
        "\n",
        "After using ChatGPT (level 4) to create a final code from my draft it found that:\n",
        "1. I only reversed one digit (missing a while loop).\n",
        "\n",
        "2. if x % 10 == 0: return False incorrectly rejects 0. Should be x % 10 == 0 and x != 0. Since 0 is technically a palindrome.\n",
        "\n",
        "3. Function name should be isPalindrome, it said this isn't technically an error however it sounds and appears cleaner than just typing def Palindrome as I did."
      ],
      "metadata": {
        "id": "kECoX8K3cxJH"
      }
    },
    {
      "cell_type": "markdown",
      "source": [
        "## 5. Reflection on Contributions\n",
        "\n",
        "1. I used ChatGPT (Level 4) to help identify errors in my draft code, it found I only reversed one digit and failed for multi-digit numbers. It also pointed out the edge case with numbers ending in zero (like 10 or 100, never being palindromes) and suggested the \"half-reversal\" optimization.\n",
        "\n",
        "2. AI did not fully explain why this requires dividing the reversed number by 10, so I worked that out myself by tracing examples on a sheet of paper like 121 and 1221 using the math.\n",
        "\n",
        "3. My main contributions were fixing my loop so the full number is reversed, also making the early return condition handle 0 correctly, and manually testing edge cases step by step like (121, -121, 10, 0, 1221) to confirm the logic is correct and the code works.\n"
      ],
      "metadata": {
        "id": "XvXU8ktpdaIO"
      }
    },
    {
      "cell_type": "markdown",
      "source": [
        "# Problem 3"
      ],
      "metadata": {
        "id": "A8YZIQT5e1GH"
      }
    },
    {
      "cell_type": "markdown",
      "source": [
        "## 1. Understanding & Breakdown\n",
        "\n",
        "I asked ChatGPT (level 1) to help me understand the concept of this problem without breaching the level 1 AI restriction in this step. It explained that this problem we need to reverse the digits of a 32-bit signed integer.\n",
        " -> If the reversed number stays inside the 32-bit range ([-2³¹, 2³¹ - 1]), return it.\n",
        " -> If it goes outside that range, return 0.\n",
        "\n",
        "With this in mind I can now breakdown the inputs/outputs, constraints and try to understand how to make a step by step plan to solve this.\n",
        "\n",
        "The input/outputs are:\n",
        "Input: x = 123\n",
        "Output: 321\n",
        "\n",
        "Input: x = -123\n",
        "Output: -321\n",
        "\n",
        "Input: x = 120\n",
        "Output: 21\n",
        "\n",
        "The constraints are:\n",
        "-2^31 <= x <= 2^31 - 1\n",
        "\n",
        "Step by step plan to solve this problem:\n",
        "\n",
        "1. Store x (positive or negative).\n",
        "2. Initialize rev = 0.\n",
        "3. While x > 0:\n",
        "4. Extract the last digit: x = x % 10.\n",
        "5. Remove the digit: x = x // 10.\n",
        "6. Check if value of x is > 2^31 - 1.\n",
        "      If yes, return 0."
      ],
      "metadata": {
        "id": "CkIuprbNe2yy"
      }
    },
    {
      "cell_type": "markdown",
      "source": [
        "## 2. Peer Review & Draft Code\n",
        "\n",
        "I reviewed one of the top solutions under Reverse Integer on LeetCode and found:\n",
        "https://leetcode.com/problems/reverse-integer/solutions/5572539/easy-and-simple-c-approach-beats-100-beginner-friendly/\n",
        "\n",
        "What I learned from the reviewed solution:\n",
        "\n",
        "The idea to solve this problem is to extract and reverse the digits of the 32-bit integer by taking the remainder when divided by 10 in a loop. We have to make sure the result stays within the constraints listed by checking for overflow before each update. Then as the problem clearly states if the integer is outside the 32-bit range we return 0, if inside the 32-bit range we return the reversed integer.\n",
        "\n",
        "Seeing the solution and looking back at my breakdown, made me realize I should,\n",
        "1. Keep digit separate\n",
        "2. Actually build the reversed number with ans = ans * 10 + digit\n",
        "3. Loop x != 0 to handle negatives\n",
        "4. Do the overflow check on \"ans\" before updating, not on x. This matches the 32-bit requirement in the problem.\n",
        "\n",
        "Having learned this I will now attempt to put it into a Draft Code:"
      ],
      "metadata": {
        "id": "Oihp5MOihxgI"
      }
    },
    {
      "cell_type": "code",
      "source": [
        "# Draft Code\n",
        "\n",
        "def reverse(x):\n",
        "    INT_MAX = 2**31 - 1 # higher constraint\n",
        "    INT_MIN = -2**31      # lower constraint\n",
        "\n",
        "    ans = 0\n",
        "    sign = 1\n",
        "\n",
        "    if x < 0:\n",
        "        sign = -1\n",
        "        x = -x\n",
        "\n",
        "    elif x > 0:\n",
        "        digit = x % 10\n",
        "        x = x // 10\n",
        "\n",
        "        # Check overflow (not sure how to complete this properly)\n",
        "        if ans > INT_MAX // 10:\n",
        "            return 0\n",
        "\n",
        "        ans = ans * 10 + digit\n",
        "\n",
        "    return sign * ans"
      ],
      "metadata": {
        "id": "wvOjzllFvSMX"
      },
      "execution_count": null,
      "outputs": []
    },
    {
      "cell_type": "markdown",
      "source": [
        "## 3. Final Correct Code\n",
        "\n"
      ],
      "metadata": {
        "id": "fRSxp_v9ycX3"
      }
    },
    {
      "cell_type": "code",
      "source": [
        "def reverse(x: int) -> int:\n",
        "    INT_MAX = 2_147_483_647        # 2**31 - 1\n",
        "    INT_MIN_MAG = 2_147_483_648    # abs(-2**31)\n",
        "\n",
        "    # Keep the sign, work with positive magnitude\n",
        "    sign = -1 if x < 0 else 1\n",
        "    n = -x if x < 0 else x\n",
        "\n",
        "    rev = 0\n",
        "    # Choose the correct limit based on the final sign:\n",
        "    #   +ve result must be <= 2147483647\n",
        "    #   -ve result magnitude can be up to 2147483648\n",
        "    limit = INT_MAX if sign == 1 else INT_MIN_MAG\n",
        "\n",
        "    while n > 0:\n",
        "        digit = n % 10\n",
        "\n",
        "        # Overflow pre-check BEFORE: rev = rev*10 + digit\n",
        "        if rev > limit // 10 or (rev == limit // 10 and digit > limit % 10):\n",
        "            return 0\n",
        "\n",
        "        rev = rev * 10 + digit\n",
        "        n //= 10\n",
        "\n",
        "    return sign * rev\n",
        "\n",
        "  # AI Disclaimer: I used ChatGPT to review my draft and help finalize correct,\n",
        "  # overflow checks, which I didn't know how to do. Specifically, it suggested using,\n",
        "  # \"a sign-aware limit (2147483647 for positive results and 2147483648 for negative magnitudes),\"\n",
        "  # and doing a pre-check before rev = rev*10 + digit which it annotated in the code.\n",
        "  # Prompt {“I’m solving Reverse Integer in Python with 32-bit constraints. Please help me: fix overflow handling using a pre-check before rev = rev*10 + digit; handle negatives by using a sign and working on abs(x); choose the correct limit for positive vs negative results.\"}"
      ],
      "metadata": {
        "id": "597XT5YGz7sb"
      },
      "execution_count": null,
      "outputs": []
    },
    {
      "cell_type": "markdown",
      "source": [
        "## 4. Review & Fixes\n",
        "\n",
        "1. ChatGPT helped me learn how to do an overflow check for this code and suggested using a sign-aware limit for the constraints given. Overall I believe my draft code was quite good. It also was very helpful with annotating what each section was doing with notes inside the code for me to help follow.\n",
        "\n",
        "2. I noticed after verifying the logic of the code that it replaced my elif x > 0 with while x > 0, which obviously is correct given the steps required for the problem, so that was a nice catch that I missed when drafting the code."
      ],
      "metadata": {
        "id": "pyJOdevr38sG"
      }
    },
    {
      "cell_type": "markdown",
      "source": [
        "## 5. Reflections on Contributions\n",
        "\n",
        "  Upon revewing on of the top solutions on LeetCode, I was able to make my draft code much easier once given a better breakdown of the problem using code. I was able to find out how to breakdown the problem step by step in section one but didn't really know how to properly format the code.\n",
        "\n",
        "  After using ChatGPT (level 4) to help with my final correct code I found there were a couple small errors with syntax and it helped me build an overflow check given the contraints which was very helpful and as mentioned in the lectures \"did the boring stuff\" for me and let me just focus on breaking down and understanding the problem."
      ],
      "metadata": {
        "id": "jVLSMvJPPkHc"
      }
    },
    {
      "cell_type": "markdown",
      "source": [
        "# Problem 4"
      ],
      "metadata": {
        "id": "E3AbnjtOQUrX"
      }
    },
    {
      "cell_type": "markdown",
      "source": [
        "## 1. Breakdown and Understanding\n",
        "\n",
        "I asked ChatGPT (level 1) to explain the concept of this problem. It explained, \"In the Two Sum problem, we are given a list of integers (nums) in the code, and a target number. We need to find the *indices* of two numbers in the list such that their sum equals the target. We also cannot reuse the same element twice. We are guaranteed there will be exactly one solution. Order doesn’t matter (e.g., [0,1] or [1,0] is fine).\"\n",
        "\n",
        "With this in mind we'll now look at the inputs/outputs and constraints before breaking down the problem.\n",
        "\n",
        "Inputs:\n",
        "  - nums = array of integers\n",
        "  - target = integer\n",
        "\n",
        "Outputs:\n",
        "  - A pair of indices [i, j] where nums[i] + nums[j] == target\n",
        "\n",
        "Constraints:\n",
        "2 <= nums.length <= 104\n",
        "-109 <= nums[i] <= 109\n",
        "-109 <= target <= 109\n",
        "\n",
        "Step by step breakdown of problem:\n",
        "1. Loop through every index i.\n",
        "2. For every index j after i, check if nums[i] + nums[j] == target.\n",
        "3. If yes, return [i, j]."
      ],
      "metadata": {
        "id": "r0AYuLm-QWqB"
      }
    },
    {
      "cell_type": "markdown",
      "source": [
        "## 3. Peer Review & Draft Code\n",
        "\n",
        "I reviewed the top solution for Two Sum on Leet Code:\n",
        "https://leetcode.com/problems/two-sum/solutions/6754748/video-step-by-step-easy-solution/\n",
        "\n",
        "This helped me understand that in my plan where I tried every pair with two loops, and check nums[i] + nums[j] == target. It does work, but it’s O(n²) and apparently can get slow when big lists start showing up.\n",
        "\n",
        "The reviewed solution taught me to use a dictionary (hash map) to remember numbers we’ve already seen so we can find the answer in O(n) much more efficiently.\n",
        "\n",
        "To my understand this works by scanning the array of numbers once, and as you do this for each number number, you figure out the other number you need. If \"need\" is already in the dictionary, you’ve found the pair to return the two indices. If not, then store the current number with its index so the next numbers can find it later."
      ],
      "metadata": {
        "id": "pCsc6JrXSjLE"
      }
    },
    {
      "cell_type": "code",
      "source": [
        "# Draft Code\n",
        "\n",
        "pair_idx = {}\n",
        "  for i, num in enumerate(nums):\n",
        "    need = target - num\n",
        "  if need in pair_idx:\n",
        "       return [pair_idx[need], i]\n",
        "pair_idx[num] = i"
      ],
      "metadata": {
        "id": "tAA92tomSiUb",
        "outputId": "c1c067c4-744a-4e97-e85e-707f1f38db20",
        "colab": {
          "base_uri": "https://localhost:8080/",
          "height": 106
        }
      },
      "execution_count": null,
      "outputs": [
        {
          "output_type": "error",
          "ename": "IndentationError",
          "evalue": "unexpected indent (ipython-input-3494509539.py, line 4)",
          "traceback": [
            "\u001b[0;36m  File \u001b[0;32m\"/tmp/ipython-input-3494509539.py\"\u001b[0;36m, line \u001b[0;32m4\u001b[0m\n\u001b[0;31m    for i, num in enumerate(nums):\u001b[0m\n\u001b[0m    ^\u001b[0m\n\u001b[0;31mIndentationError\u001b[0m\u001b[0;31m:\u001b[0m unexpected indent\n"
          ]
        }
      ]
    },
    {
      "cell_type": "markdown",
      "source": [
        "## 3. Final Correct Code"
      ],
      "metadata": {
        "id": "ioU6ab4wWeDP"
      }
    },
    {
      "cell_type": "code",
      "source": [
        "from typing import List\n",
        "\n",
        "def twoSum(nums: List[int], target: int) -> List[int]:\n",
        "    seen = {}  # value -> index\n",
        "    for i, num in enumerate(nums):\n",
        "        need = target - num\n",
        "        if need in seen:\n",
        "            return [seen[need], i]\n",
        "        seen[num] = i\n",
        "    # Problem guarantees exactly one solution; this return is just a safeguard.\n",
        "    return []\n",
        "\n",
        "# AI Disclaimer: I used ChatGPT (Level 4) to refine my final solution for Two Sum.\n",
        "# I asked for the standard O(n) one-pass dictionary approach. I verified the logic and compared it to the peer-reviewed explanation.\n",
        "# Prompt {“Finalize my Two Sum solution in Python using the O(n) hash map method. Make it beginner-friendly, and briefly explain in English why it works.”}"
      ],
      "metadata": {
        "id": "kVsbSid8WrrB"
      },
      "execution_count": null,
      "outputs": []
    },
    {
      "cell_type": "markdown",
      "source": [
        "## 4. Review & Fixes\n",
        "\n",
        "1. After using level 4 ChatGPT to help me make a final correct version of my code it helped me fix my error:\n",
        "  pair_idx = {}\n",
        "    for i, num in enumerate(nums):  # <-- extra spaces caused error\n",
        "    need = target - num\n",
        "  This was an indentation error and it explained that Python is strict about spacing.\n",
        "\n",
        "  2. The other fix I did was fixing the code order and also the readability. In my draft, the \"if check\" wasn't aligned properly with the loop, so it wasn’t actually inside of it. This made the logic not work properly. In the final version, the \"if check\" and the dictionary update are both inside the loop with proper indentation. It also renamed pair_idx and explained that this helps with clarity. I then review the logic and code again on my own and everything seemed accurate."
      ],
      "metadata": {
        "id": "B73Y84iSV0Rd"
      }
    },
    {
      "cell_type": "markdown",
      "source": [
        "## 5. Reflection on Contributions\n",
        "\n",
        "Using ChatGPT (Level 4) at the end to clean up my code to make sure everything was written correctly helped me fix my errors and make my code more readable. This fixed the indentation error and the correct order of operations which was, 1. check target - number\n",
        "2. store number if no match was found.\n",
        "\n",
        " ChatGPT didn’t help me with understanding why checking the dictionary before storing number prevents using the same number twice. I figured that out on my own upon analyzing though. Basically, if you stored a number first, then it could match itself when need == num. That made it click for me once I figured that out.\n",
        "My contribution without AI was, reading the peer-reviewed solution on LeetCode where I found out how a dictionary could make it faster when many numbers are used. I understood that for each number I could calculate what number was still needed (target - num) and check if it was already stored in the dictionary. If it was, I found the answer. When I wrote the Draft Code, I tried writing the dictionary approach myself. My code was not fully correct because I made the indentation mistakes I mentioned above, and my if check wasn’t inside the loop, but I think I was able to get the main idea on my own.\n",
        "\n"
      ],
      "metadata": {
        "id": "V0ydLPaEW0oF"
      }
    },
    {
      "cell_type": "markdown",
      "source": [
        "# Problem 5\n",
        "\n",
        "## 1. Understanding and Breakdown\n",
        "\n",
        "With my new understanding of how Palindromes work from the previous problem, it was easier for me to breakdown this problem however, for more clarity and ease of understanding I still asked ChatGPT (level 1) to explain the idea of the problem. It explained that for this problem we need to check if a given string is a palindrome when we:\n",
        "  - Ignore letter case (uppercase vs lowercase doesn’t matter).\n",
        "  - Ignore all characters that are not letters or numbers (skip spaces, commas, punctuation, etc.).\n",
        "\n",
        "If, after cleaning up the string, it reads the same forwards and backwards, we return true. Otherwise, it's false.\n",
        "\n",
        "Next we'll look at the inputs/outputs and contraints as usual.\n",
        "  \n",
        "1. Input: s = \"A man, a plan, a canal: Panama\"\n",
        "\n",
        "Output: true\n",
        "\n",
        "2. Input: s = \"race a car\"\n",
        "\n",
        "Output: false\n",
        "\n",
        "3. Input: s = \" \"\n",
        "\n",
        "Output: true\n",
        "\n",
        "Contraints:\n",
        "  \n",
        "  - 1 <= s.length <= 2 * 105\n",
        "  - s consists only of printable ASCII characters.\n",
        "\n",
        "Now I will breakdown the step by step process to solve this problem:\n",
        "1. Convert the string to lowercase.\n",
        "2. Remove all characters that are not letters or digits.\n",
        "3. Compare the new string with the reverse.\n",
        "4. If they are equal, return True.\n",
        "5. If not equal, return False."
      ],
      "metadata": {
        "id": "8nNTi0PuZwp2"
      }
    },
    {
      "cell_type": "markdown",
      "source": [
        "## 2. Peer Review & Draft Code\n",
        "\n",
        "I reviewed one of the top solutions under this problem on LeetCode:\n",
        "https://leetcode.com/problems/valid-palindrome/solutions/7197820/clean-simple-efficient-beginner-friendly-easy-explanation/\n",
        "\n",
        "What I learned from reviewing this was that my thought was to check the string directly, but the solution suggested filtering out non letters of digits (like spaces and punctuation) first.\n",
        "\n",
        "The reviewed solution also used Python’s .isalnum() build which made the solution's method possible (or atleast easier?) it returns true only for letters and numbers.\n",
        "\n",
        "It also showed that we can convert everything to lowercase with .lower() before checking, so we don’t mix up an uppercase and a lowercase, which was the first step I listed in my breakdown.\n",
        "\n",
        "To check if the string is a palindrome, the solution compared the cleaned string to its reverse (new == new[::-1]). Which is a lot simpler than manually looping it everytime."
      ],
      "metadata": {
        "id": "dQQCVU6sbt6Y"
      }
    },
    {
      "cell_type": "code",
      "source": [
        "# Draft Code\n",
        "\n",
        "def isPalindrome(s):\n",
        "    cleaned = \"\"\n",
        "    for c in s:\n",
        "        if c.isalnum():\n",
        "            cleaned += c.lower()\n",
        "    return cleaned == cleaned[::-1]"
      ],
      "metadata": {
        "id": "DgZ1dW8Pg2-s"
      },
      "execution_count": null,
      "outputs": []
    },
    {
      "cell_type": "markdown",
      "source": [
        "## 3. Final Correct Code\n",
        "\n"
      ],
      "metadata": {
        "id": "9VCgMjpPg88z"
      }
    },
    {
      "cell_type": "code",
      "source": [
        "from typing import List\n",
        "\n",
        "def isPalindrome(s: str) -> bool:\n",
        "    left, right = 0, len(s) - 1\n",
        "\n",
        "    while left < right:\n",
        "        # skip non-alphanumeric on the left\n",
        "        while left < right and not s[left].isalnum():\n",
        "            left += 1\n",
        "        # skip non-alphanumeric on the right\n",
        "        while left < right and not s[right].isalnum():\n",
        "            right -= 1\n",
        "\n",
        "        # compare lowercase characters\n",
        "        if s[left].lower() != s[right].lower():\n",
        "            return False\n",
        "\n",
        "        left += 1\n",
        "        right -= 1\n",
        "\n",
        "    return True\n",
        "\n",
        "    # AI Disclaimer: I used ChatGPT (Level 4) build my final solution from a,\n",
        "    # string-building approach.\n",
        "    # The AI structured the skips for non-alphanumeric characters and,\n",
        "    # reminded me to compare in lowercase. I typed it out and verified the final code and logic myself.\n",
        "\n",
        "# Prompt: {“Finalize my Draft Code for Valid Palindrome in Python. Make it beginner-friendly and explain briefly why it works with notes added in the code.\"}"
      ],
      "metadata": {
        "id": "kLIZEsjMhIfv"
      },
      "execution_count": null,
      "outputs": []
    },
    {
      "cell_type": "markdown",
      "source": [
        "## 4. Review & Fixes\n",
        "\n",
        "1. My Draft Code did not have an errors this time however, ChatGPT (level 4) changed where I built \"cleaned\" one character at a time (cleaned += c.lower()), then compared cleaned == cleaned[::-1]. Which works but it's slower because string creates a new string every time so it changed the code to use the \"two-pointer approach\" that scans from both ends, skips non-alphanumeric in place, and compares lowercase characters directly. This avoids creating a second string and keeps extra space O(1) while staying O(n) time.\n",
        "\n",
        "2. In my Draft Code I filtered everything out first, then compared the entire cleaned string to the reverse. There’s AI explained that there's no early stop so we always build the entire cleaned string. It changed this by adding individual skip loops for non-alphanumeric characters on both left and right, and returns false immediately on the first time they don't match. It also explained that this is faster for longer inputs and stops and loops back as soon as we know it isn’t a palindrome.\n"
      ],
      "metadata": {
        "id": "lLKATjyDiAv3"
      }
    },
    {
      "cell_type": "markdown",
      "source": [
        "## 5. Reflection to Contribution\n",
        "\n",
        "When using ChatGPT (Level 4) to improve my Draft Code for this problem, it helped me better use the peer-reviewed approach I looked at to build a new string with only lowercase letters and numbers, then compare it to the reverse. My attempt at this in my Draft Code worked without any errors however, AI explained it wasn’t very efficient because it required creating a new string in the memory everytime.\n",
        "\n",
        "ChatGPT (level 4) suggested an alternative called the two-pointer method. This is where you skip non-alphanumeric characters in place and compare characters from both ends without building a new string. This reduced the space usage and also allowed the function to stop early if there was no Palindrome instead of running the entire string.\n",
        "\n",
        "My contributions without AI were breaking down the step by step process after level 1 AI helped me understand the concept of the problem, and writing the Draft Code myself based on the peer reviewed solution. I was also able to understand how .isalnum() and .lower() work in Python to clean up the string, and I manually checked the examples like, \"A man, a plan, a canal: Panama\", \"race a car\", and \" \", to verify the logic of my draft and the final AI assisted corrected code gave the proper results."
      ],
      "metadata": {
        "id": "b3p5zfBDkIfI"
      }
    },
    {
      "cell_type": "markdown",
      "source": [
        "# Footnote\n",
        "\n",
        "I have a basic understanding of Python however this was a very challenging assignment for me to be honest. It was very fun though learning how to breakdown these problems while also learning how useful of a tool AI can be without just copy-pasting the answers which made this a very doable assignment for me, without it I would've been stuck and had to work a lot slower. I also see how as we went over in the lectures that as a coder you can still develop the critial thinking and problem solving abilities using AI as a tool to do all the \"boring stuff\" and help me understand the concepts much more efficiently. Looking forward to more of these CT and problem-solving activies!\n",
        "\n",
        "Any feedback is much appreciated, I tried my best to follow the outline as best I could.\n",
        "\n",
        "K. Michael MacNeill"
      ],
      "metadata": {
        "id": "WuRa6nv9l5Qr"
      }
    }
  ]
}